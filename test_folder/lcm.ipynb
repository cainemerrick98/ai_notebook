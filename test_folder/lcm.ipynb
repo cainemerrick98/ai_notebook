{
 "cells": [
  {
   "cell_type": "code",
   "execution_count": 1,
   "id": "0ea38292-e70d-4130-b445-56e82a3c7351",
   "metadata": {},
   "outputs": [
    {
     "name": "stdout",
     "output_type": "stream",
     "text": [
      "The LCM of 12 and 15 is: 60\n"
     ]
    }
   ],
   "source": [
    "import math\n",
    "\n",
    "def lcm(a, b):\n",
    "  # Calculate the LCM using the formula: LCM(a, b) = (a * b) / GCD(a, b)\n",
    "  return (a * b) // math.gcd(a, b)\n",
    "\n",
    "# Example usage\n",
    "num1 = 12\n",
    "num2 = 15\n",
    "result = lcm(num1, num2)\n",
    "print(f\"The LCM of {num1} and {num2} is: {result}\") # Output: The LCM of 12 and 15 is: 60"
   ]
  },
  {
   "cell_type": "code",
   "execution_count": 2,
   "id": "85438d27-693c-4b98-a10d-6de474ae8314",
   "metadata": {},
   "outputs": [],
   "source": [
    "def find_max(numbers):\n",
    "    \"\"\"Return the maximum number in a list.\"\"\"\n",
    "    max_num = 0 \n",
    "    for num in numbers:\n",
    "        if num > max_num:\n",
    "            max_num = num\n",
    "    return max_num"
   ]
  },
  {
   "cell_type": "code",
   "execution_count": null,
   "id": "6612d8fb-2bcd-4569-bbdb-eb7dd42d9be4",
   "metadata": {},
   "outputs": [],
   "source": []
  }
 ],
 "metadata": {
  "kernelspec": {
   "display_name": "Python 3 (ipykernel)",
   "language": "python",
   "name": "python3"
  },
  "language_info": {
   "codemirror_mode": {
    "name": "ipython",
    "version": 3
   },
   "file_extension": ".py",
   "mimetype": "text/x-python",
   "name": "python",
   "nbconvert_exporter": "python",
   "pygments_lexer": "ipython3",
   "version": "3.11.4"
  }
 },
 "nbformat": 4,
 "nbformat_minor": 5
}
